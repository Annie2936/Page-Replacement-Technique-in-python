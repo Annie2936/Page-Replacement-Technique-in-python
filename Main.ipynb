{
 "cells": [
  {
   "cell_type": "code",
   "execution_count": 102,
   "id": "997b3abb-05de-467a-86ce-c3d4c2348f25",
   "metadata": {},
   "outputs": [
    {
     "name": "stdin",
     "output_type": "stream",
     "text": [
      "Enter no.of pages you want:  3\n",
      "Enter Page number 1 :  1\n",
      "Enter Page number 2 :  2\n",
      "Enter Page number 3 :  3\n",
      "Enter no.of frames you want:  3\n",
      "Enter:\n",
      "1:FIFO\n",
      "2:LRU\n",
      "3:Optimal\n",
      "0:Exit\n",
      " 1\n"
     ]
    },
    {
     "name": "stdout",
     "output_type": "stream",
     "text": [
      "pages in frames are : [3, 1, 2] and page fault is 3\n"
     ]
    },
    {
     "name": "stdin",
     "output_type": "stream",
     "text": [
      "Enter:\n",
      "1:FIFO\n",
      "2:LRU\n",
      "3:Optimal\n",
      "0:Exit\n",
      " 2\n"
     ]
    },
    {
     "name": "stdout",
     "output_type": "stream",
     "text": [
      "pages in frames are : [1, 2, 3] and page fault is 3\n"
     ]
    },
    {
     "name": "stdin",
     "output_type": "stream",
     "text": [
      "Enter:\n",
      "1:FIFO\n",
      "2:LRU\n",
      "3:Optimal\n",
      "0:Exit\n",
      " 3\n"
     ]
    },
    {
     "name": "stdout",
     "output_type": "stream",
     "text": [
      "pages in frames are : [3, 1, 2] and page fault is 0\n"
     ]
    },
    {
     "name": "stdin",
     "output_type": "stream",
     "text": [
      "Enter:\n",
      "1:FIFO\n",
      "2:LRU\n",
      "3:Optimal\n",
      "0:Exit\n",
      " 0\n"
     ]
    },
    {
     "name": "stdout",
     "output_type": "stream",
     "text": [
      "Invalid input\n"
     ]
    }
   ],
   "source": [
    "class PageReplacementTechnique:\n",
    "    def __init__(self,page_numbers,frames):\n",
    "        self.pages=page_numbers\n",
    "        self.frames=frames\n",
    "        self.frame_box=[-1 for i in range(self.frames) ]\n",
    "        self.frame_dict = {}  \n",
    "        self.access_order = [] \n",
    "    def fifo(self):\n",
    "        page_fault=0\n",
    "        index=0\n",
    "        for i in self.pages:\n",
    "            if(i not in self.frame_box):\n",
    "                page_fault+=1\n",
    "                index=(index+1) % self.frames\n",
    "                self.frame_box[index]=i\n",
    "        else:\n",
    "            return [self.frame_box ,page_fault ]\n",
    "    def lru(self):\n",
    "        page_fault=0\n",
    "        for page in self.pages:\n",
    "            if page not in self.frame_dict:\n",
    "                page_fault += 1\n",
    "                if len(self.frame_dict) >= self.frames:\n",
    "                    lru_page = self.access_order.pop(0)  \n",
    "                    del self.frame_dict[lru_page]\n",
    "            else:\n",
    "                self.access_order.remove(page)\n",
    "            \n",
    "            self.frame_dict[page] = True\n",
    "            self.access_order.append(page)\n",
    "        return [list(self.frame_dict.keys()),page_fault]\n",
    "    def optimal(self):\n",
    "        page_fault=0\n",
    "        temp_index=0\n",
    "        indices=[-1 for i in range(self.frames)]\n",
    "        for i in self.pages:\n",
    "            if i not in self.frame_box and -1 not in self.frame_box:\n",
    "                page_fault+=1\n",
    "                temp = self.pages[self.pages.index(i):len(self.pages)]\n",
    "                for j in range(len(self.frame_box)):\n",
    "                    try : \n",
    "                        indices[j]=temp.index(self.frame_box[j]) \n",
    "                    except :\n",
    "                        indices[j]=len(self.pages)-1\n",
    "                else: \n",
    "                    self.frame_box[self.frame_box.index(self.frame_box[indices.index(max(indices))])] = i\n",
    "            elif i not in self.frame_box:\n",
    "                page_fault+=1\n",
    "                temp_index=(temp_index+1) % self.frames\n",
    "                self.frame_box[temp_index]=i\n",
    "        return [self.frame_box ,page_fault ] \n",
    "if __name__==\"__main__\":\n",
    "    page_count=int(input(\"Enter no.of pages you want: \"))\n",
    "    page_numbers=[]\n",
    "    for i in range(0,page_count):\n",
    "        page_numbers.append(int(input(f\"Enter Page number {i+1} : \") or 0))\n",
    "    else:\n",
    "        frames=int(input(\"Enter no.of frames you want: \"))\n",
    "    pageTech = PageReplacementTechnique(page_numbers,frames)\n",
    "    choice = 1\n",
    "    while choice:\n",
    "        choice = int(input(\"Enter:\\n1:FIFO\\n2:LRU\\n3:Optimal\\n0:Exit\\n\") or 1)\n",
    "        match(choice):\n",
    "            case 1:\n",
    "                result = pageTech.fifo()\n",
    "                print(f\"pages in frames are : {result[0]} and page fault is {result[1]}\")\n",
    "            case 2:\n",
    "                result = pageTech.lru()\n",
    "                print(f\"pages in frames are : {result[0]} and page fault is {result[1]}\")\n",
    "            case 3:\n",
    "                result = pageTech.optimal()\n",
    "                print(f\"pages in frames are : {result[0]} and page fault is {result[1]}\")\n",
    "            case 0:\n",
    "                print(\"Exit...\")\n",
    "            case _:\n",
    "                print(\"Invalid input\")"
   ]
  },
  {
   "cell_type": "code",
   "execution_count": null,
   "id": "2b355948-bdc3-4857-b846-ac572fba86de",
   "metadata": {},
   "outputs": [],
   "source": []
  }
 ],
 "metadata": {
  "kernelspec": {
   "display_name": "Python 3 (ipykernel)",
   "language": "python",
   "name": "python3"
  },
  "language_info": {
   "codemirror_mode": {
    "name": "ipython",
    "version": 3
   },
   "file_extension": ".py",
   "mimetype": "text/x-python",
   "name": "python",
   "nbconvert_exporter": "python",
   "pygments_lexer": "ipython3",
   "version": "3.12.4"
  }
 },
 "nbformat": 4,
 "nbformat_minor": 5
}
